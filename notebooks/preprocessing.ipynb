{
 "cells": [
  {
   "cell_type": "code",
   "execution_count": 1,
   "metadata": {
    "tags": []
   },
   "outputs": [],
   "source": [
    "import pandas as pd\n",
    "import numpy as np"
   ]
  },
  {
   "cell_type": "code",
   "execution_count": 2,
   "metadata": {},
   "outputs": [],
   "source": [
    "df = pd.read_csv(\"../data/2020-03-13/preprocessed.csv\", index_col=0)"
   ]
  },
  {
   "cell_type": "code",
   "execution_count": 3,
   "metadata": {},
   "outputs": [
    {
     "data": {
      "text/html": [
       "<div>\n",
       "<style scoped>\n",
       "    .dataframe tbody tr th:only-of-type {\n",
       "        vertical-align: middle;\n",
       "    }\n",
       "\n",
       "    .dataframe tbody tr th {\n",
       "        vertical-align: top;\n",
       "    }\n",
       "\n",
       "    .dataframe thead th {\n",
       "        text-align: right;\n",
       "    }\n",
       "</style>\n",
       "<table border=\"1\" class=\"dataframe\">\n",
       "  <thead>\n",
       "    <tr style=\"text-align: right;\">\n",
       "      <th></th>\n",
       "      <th>sha</th>\n",
       "      <th>title</th>\n",
       "      <th>abstract_tokens</th>\n",
       "    </tr>\n",
       "  </thead>\n",
       "  <tbody>\n",
       "    <tr>\n",
       "      <th>2</th>\n",
       "      <td>210a892deb1c61577f6fba58505fd65356ce6636</td>\n",
       "      <td>Incubation Period and Other Epidemiological Ch...</td>\n",
       "      <td>['The', 'geographic', 'spread', 'of', '2019', ...</td>\n",
       "    </tr>\n",
       "    <tr>\n",
       "      <th>3</th>\n",
       "      <td>e3b40cc8e0e137c416b4a2273a4dca94ae8178cc</td>\n",
       "      <td>Characteristics of and Public Health Responses...</td>\n",
       "      <td>['In', 'December', '2019', ',', 'cases', 'of',...</td>\n",
       "    </tr>\n",
       "    <tr>\n",
       "      <th>4</th>\n",
       "      <td>e9239100c5493ea914dc23c3d7a262f4326022ac</td>\n",
       "      <td>Distinct Roles for Sialoside and Protein Recep...</td>\n",
       "      <td>['Coronaviruses', '(', 'CoVs', ')', 'are', 'co...</td>\n",
       "    </tr>\n",
       "    <tr>\n",
       "      <th>5</th>\n",
       "      <td>469ed0f00c09e2637351c9735c306f27acf3aace</td>\n",
       "      <td>First two months of the 2019 Coronavirus Disea...</td>\n",
       "      <td>['Similar', 'to', 'outbreaks', 'of', 'many', '...</td>\n",
       "    </tr>\n",
       "    <tr>\n",
       "      <th>6</th>\n",
       "      <td>4e550e034ccca6fa2a91e481ddba24db67bc9ae5</td>\n",
       "      <td>Effectiveness of airport screening at detectin...</td>\n",
       "      <td>['We', 'simulated', '100', '2019-nCoV', 'infec...</td>\n",
       "    </tr>\n",
       "    <tr>\n",
       "      <th>...</th>\n",
       "      <td>...</td>\n",
       "      <td>...</td>\n",
       "      <td>...</td>\n",
       "    </tr>\n",
       "    <tr>\n",
       "      <th>9006</th>\n",
       "      <td>b9fe40055b01585084db291401c57f26d25fe478</td>\n",
       "      <td>Modelling the effective reproduction number of...</td>\n",
       "      <td>['The', 'burden', 'of', 'vector-borne', 'disea...</td>\n",
       "    </tr>\n",
       "    <tr>\n",
       "      <th>9007</th>\n",
       "      <td>edee452881f826fb72c58ee68a982789b12aa99d</td>\n",
       "      <td>Demographic Variations of MERS-CoV Infection a...</td>\n",
       "      <td>['Introduction', '.', 'Middle', 'East', 'respi...</td>\n",
       "    </tr>\n",
       "    <tr>\n",
       "      <th>9008</th>\n",
       "      <td>7fb385f3c0c5ce04f1c3d3c4f20678c0ae3a7031</td>\n",
       "      <td>Development and validation of knowledge, attit...</td>\n",
       "      <td>['BACKGROUND', ':', 'Hajj', 'pilgrimage', 'fac...</td>\n",
       "    </tr>\n",
       "    <tr>\n",
       "      <th>9009</th>\n",
       "      <td>e5a10a7f2c9bb07f74fcce076a62f63f859cf3a4</td>\n",
       "      <td>Global Critical Care: Moving Forward in Resour...</td>\n",
       "      <td>['Caring', 'for', 'critically', 'ill', 'patien...</td>\n",
       "    </tr>\n",
       "    <tr>\n",
       "      <th>9010</th>\n",
       "      <td>a70e7c4d8ee484ce956e91c8700d0c9310bbdbbc</td>\n",
       "      <td>Estimated effectiveness of symptom and risk sc...</td>\n",
       "      <td>['Traveller', 'screening', 'is', 'being', 'use...</td>\n",
       "    </tr>\n",
       "  </tbody>\n",
       "</table>\n",
       "<p>8778 rows × 3 columns</p>\n",
       "</div>"
      ],
      "text/plain": [
       "                                           sha  \\\n",
       "2     210a892deb1c61577f6fba58505fd65356ce6636   \n",
       "3     e3b40cc8e0e137c416b4a2273a4dca94ae8178cc   \n",
       "4     e9239100c5493ea914dc23c3d7a262f4326022ac   \n",
       "5     469ed0f00c09e2637351c9735c306f27acf3aace   \n",
       "6     4e550e034ccca6fa2a91e481ddba24db67bc9ae5   \n",
       "...                                        ...   \n",
       "9006  b9fe40055b01585084db291401c57f26d25fe478   \n",
       "9007  edee452881f826fb72c58ee68a982789b12aa99d   \n",
       "9008  7fb385f3c0c5ce04f1c3d3c4f20678c0ae3a7031   \n",
       "9009  e5a10a7f2c9bb07f74fcce076a62f63f859cf3a4   \n",
       "9010  a70e7c4d8ee484ce956e91c8700d0c9310bbdbbc   \n",
       "\n",
       "                                                  title  \\\n",
       "2     Incubation Period and Other Epidemiological Ch...   \n",
       "3     Characteristics of and Public Health Responses...   \n",
       "4     Distinct Roles for Sialoside and Protein Recep...   \n",
       "5     First two months of the 2019 Coronavirus Disea...   \n",
       "6     Effectiveness of airport screening at detectin...   \n",
       "...                                                 ...   \n",
       "9006  Modelling the effective reproduction number of...   \n",
       "9007  Demographic Variations of MERS-CoV Infection a...   \n",
       "9008  Development and validation of knowledge, attit...   \n",
       "9009  Global Critical Care: Moving Forward in Resour...   \n",
       "9010  Estimated effectiveness of symptom and risk sc...   \n",
       "\n",
       "                                        abstract_tokens  \n",
       "2     ['The', 'geographic', 'spread', 'of', '2019', ...  \n",
       "3     ['In', 'December', '2019', ',', 'cases', 'of',...  \n",
       "4     ['Coronaviruses', '(', 'CoVs', ')', 'are', 'co...  \n",
       "5     ['Similar', 'to', 'outbreaks', 'of', 'many', '...  \n",
       "6     ['We', 'simulated', '100', '2019-nCoV', 'infec...  \n",
       "...                                                 ...  \n",
       "9006  ['The', 'burden', 'of', 'vector-borne', 'disea...  \n",
       "9007  ['Introduction', '.', 'Middle', 'East', 'respi...  \n",
       "9008  ['BACKGROUND', ':', 'Hajj', 'pilgrimage', 'fac...  \n",
       "9009  ['Caring', 'for', 'critically', 'ill', 'patien...  \n",
       "9010  ['Traveller', 'screening', 'is', 'being', 'use...  \n",
       "\n",
       "[8778 rows x 3 columns]"
      ]
     },
     "execution_count": 3,
     "metadata": {},
     "output_type": "execute_result"
    }
   ],
   "source": [
    "df"
   ]
  },
  {
   "cell_type": "code",
   "execution_count": 4,
   "metadata": {},
   "outputs": [],
   "source": [
    "from sentence_transformers import SentenceTransformer\n",
    "model = SentenceTransformer('msmarco-distilbert-base-dot-prod-v3')"
   ]
  },
  {
   "cell_type": "code",
   "execution_count": 5,
   "metadata": {},
   "outputs": [],
   "source": [
    "import faiss\n",
    "encoded_data = model.encode(df.abstract_tokens.tolist()[0:10])\n",
    "index = faiss.IndexIDMap(faiss.IndexFlatIP(768))\n",
    "index.add_with_ids(encoded_data, np.array(range(0, len(encoded_data))))\n",
    "faiss.write_index(index, 'paper.index')"
   ]
  },
  {
   "cell_type": "code",
   "execution_count": 6,
   "metadata": {},
   "outputs": [],
   "source": [
    "def fetch_paper_info(dataframe_idx):\n",
    "    info = df.iloc[dataframe_idx]\n",
    "    meta_dict = dict()\n",
    "    meta_dict['title'] = info['title']\n",
    "    # meta_dict['Plot'] = info['Plot'][:500]\n",
    "    return meta_dict\n",
    "    \n",
    "def search(query, top_k, index, model):\n",
    "    t = time.time()\n",
    "    query_vector = model.encode([query])\n",
    "    top_k = index.search(query_vector, top_k)\n",
    "    print('>>>> Results in Total Time: {}'.format(time.time()-t))\n",
    "    top_k_ids = top_k[1].tolist()[0]\n",
    "    top_k_ids = list(np.unique(top_k_ids))\n",
    "    results =  [fetch_paper_info(idx) for idx in top_k_ids]\n",
    "    return results"
   ]
  },
  {
   "cell_type": "code",
   "execution_count": null,
   "metadata": {},
   "outputs": [],
   "source": [
    "import time\n",
    "from pprint import pprint\n",
    "query = \"What is the incubation time of covid?\"\n",
    "results = search(query, top_k=5, index=index, model=model)\n",
    "print(\"\\n\")\n",
    "for result in results:\n",
    "    print('\\t', result)"
   ]
  },
  {
   "cell_type": "code",
   "execution_count": null,
   "metadata": {},
   "outputs": [],
   "source": []
  }
 ],
 "metadata": {
  "kernelspec": {
   "display_name": "Python 3 (ipykernel)",
   "language": "python",
   "name": "python3"
  },
  "language_info": {
   "codemirror_mode": {
    "name": "ipython",
    "version": 3
   },
   "file_extension": ".py",
   "mimetype": "text/x-python",
   "name": "python",
   "nbconvert_exporter": "python",
   "pygments_lexer": "ipython3",
   "version": "3.8.13"
  }
 },
 "nbformat": 4,
 "nbformat_minor": 4
}
